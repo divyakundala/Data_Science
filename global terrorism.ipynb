{
 "cells": [
  {
   "cell_type": "markdown",
   "metadata": {},
   "source": [
    "## **The Sparks Foundation - GRIP 03/2021**\n",
    "\n",
    "## Author: DIVYA KUNDALA\n",
    "\n"
   ]
  },
  {
   "cell_type": "markdown",
   "metadata": {},
   "source": [
    "# GLOBAL TERRORISM"
   ]
  },
  {
   "cell_type": "markdown",
   "metadata": {},
   "source": [
    "## Importing necessary libraries"
   ]
  },
  {
   "cell_type": "code",
   "execution_count": null,
   "metadata": {},
   "outputs": [],
   "source": [
    "# Importing all the libraries needed\n",
    "import math\n",
    "import warnings\n",
    "import numpy as np \n",
    "import pandas as pd \n",
    "from pandas import DataFrame\n",
    "import plotly.express as px\n",
    "import seaborn as sns\n",
    "import plotly.offline as py\n",
    "import plotly.graph_objs as go\n",
    "import matplotlib.pyplot as plt\n",
    "from mpl_toolkits.basemap import Basemap\n",
    "from wordcloud import WordCloud\n",
    "from scipy import signal\n",
    "import folium\n",
    "from folium.plugins import MarkerCluster\n",
    "from folium.plugins import HeatMap\n",
    "from mpl_toolkits.basemap import Basemap\n",
    "import matplotlib.animation as animation\n",
    "warnings.filterwarnings('ignore')\n",
    "import pydotplus\n",
    "from io import StringIO\n",
    "from sklearn.preprocessing import MinMaxScaler\n",
    "from sklearn.model_selection import train_test_split\n",
    "from sklearn import svm\n",
    "import time\n",
    "import graphviz\n",
    "from graphviz import Source\n",
    "from sklearn import tree\n",
    "from sklearn.metrics import precision_recall_fscore_support\n",
    "from sklearn.ensemble import GradientBoostingClassifier\n",
    "from sklearn.metrics import accuracy_score,f1_score, precision_score, recall_score\n",
    "from sklearn.ensemble import RandomForestClassifier\n",
    "import time\n",
    "from sklearn.naive_bayes import GaussianNB\n",
    "from sklearn.ensemble import AdaBoostClassifier\n",
    "from tabulate import tabulate\n",
    "from matplotlib.font_manager import FontProperties"
   ]
  },
  {
   "cell_type": "markdown",
   "metadata": {},
   "source": [
    "## 1. Loading and Pre-Processing the Data"
   ]
  },
  {
   "cell_type": "code",
   "execution_count": null,
   "metadata": {},
   "outputs": [],
   "source": [
    "global_data = pd.read_csv(\"globalterrorismdb_0718dist.csv\",encoding='ISO-8859-1')\n",
    "global_data.head() #listing the first 5 rows"
   ]
  },
  {
   "cell_type": "code",
   "execution_count": null,
   "metadata": {},
   "outputs": [],
   "source": [
    "global_data.shape #check the shape of df"
   ]
  },
  {
   "cell_type": "code",
   "execution_count": null,
   "metadata": {},
   "outputs": [],
   "source": [
    "global_data.info()"
   ]
  },
  {
   "cell_type": "code",
   "execution_count": null,
   "metadata": {
    "scrolled": true
   },
   "outputs": [],
   "source": [
    "global_data.columns"
   ]
  },
  {
   "cell_type": "code",
   "execution_count": null,
   "metadata": {},
   "outputs": [],
   "source": [
    "# to check if there is duplicated entry in the dataset\n",
    "global_data.duplicated().sum()"
   ]
  },
  {
   "cell_type": "code",
   "execution_count": null,
   "metadata": {},
   "outputs": [],
   "source": [
    "#Renaming the columns\n",
    "global_data.rename(columns={'iyear':'Year','imonth':'Month','iday':'Day','country_txt':'Country','provstate':'State',\n",
    "                   'region_txt':'Region','city':'City','latitude':'Latitude','longitude':'Longitude',\n",
    "                   'attacktype1_txt':'AttackType','targtype1_txt':'TargetType','targsubtype1_txt':'TargetSubType',\n",
    "                   'weaptype1_txt':'WeaponType','weapsubtype1_txt':'WeaponSubType','gname':'Group','nkill':'Killed','nwound':'Wounded','summary':'Summary','motive':'Motive', 'success':'Success','weapdetail':'Detail','propextent_txt':'Severity'},inplace=True)"
   ]
  },
  {
   "cell_type": "code",
   "execution_count": null,
   "metadata": {},
   "outputs": [],
   "source": [
    "#displaying the columns which are necessary for our project\n",
    "\n",
    "global_data=global_data[['eventid','Year','Month','Day','Country','State','Region','City','Latitude','Longitude','AttackType','TargetType','TargetSubType'\n",
    "       ,'suicide','Killed','Wounded','Summary','Group','WeaponType','WeaponSubType','Motive', 'Success', 'Detail','Severity']]\n",
    "\n",
    "global_data.head()"
   ]
  },
  {
   "cell_type": "code",
   "execution_count": null,
   "metadata": {
    "scrolled": false
   },
   "outputs": [],
   "source": [
    "# Checking for the null values\n",
    "global_data.isnull().sum()"
   ]
  },
  {
   "cell_type": "code",
   "execution_count": null,
   "metadata": {},
   "outputs": [],
   "source": [
    "#filling the NA values\n",
    "global_data[\"State\"].fillna(\"Unknown\", inplace = True)\n",
    "global_data[\"City\"].fillna(\"Unknown\", inplace = True)\n",
    "global_data[\"Latitude\"].fillna(global_data[\"Latitude\"].mean(), inplace = True)\n",
    "global_data[\"Longitude\"].fillna(global_data[\"Longitude\"].mean(), inplace = True)\n",
    "global_data[\"TargetSubType\"].fillna(\"Unknown\", inplace = True)\n",
    "global_data[\"Summary\"].fillna(\"Unknown\", inplace = True)\n",
    "global_data[\"Killed\"].fillna(0, inplace = True)\n",
    "global_data[\"Wounded\"].fillna(0, inplace = True)\n",
    "global_data[\"WeaponSubType\"].fillna(\"Unknown\", inplace = True)\n",
    "global_data[\"Motive\"].fillna(\"Unknown\", inplace = True)\n",
    "global_data[\"Severity\"].fillna(\"Unknown\", inplace = True)\n",
    "global_data[\"Detail\"].fillna(\"Unknown\", inplace = True)"
   ]
  },
  {
   "cell_type": "code",
   "execution_count": null,
   "metadata": {},
   "outputs": [],
   "source": [
    "#shortening few words in the dataset\n",
    "global_data['Country'] = global_data['Country'].replace('South Vietnam','Vietnam', regex=True)\n",
    "global_data['Weaptype'] = global_data['WeaponType'].replace('Vehicle .*','Vehicle', regex=True)\n",
    "global_data['AttackType'] = global_data['AttackType'].replace('Hostage Taking .*','Hostage Taking', regex=True)"
   ]
  },
  {
   "cell_type": "code",
   "execution_count": null,
   "metadata": {},
   "outputs": [],
   "source": [
    "global_data.describe()"
   ]
  },
  {
   "cell_type": "code",
   "execution_count": null,
   "metadata": {},
   "outputs": [],
   "source": [
    "global_data.shape"
   ]
  },
  {
   "cell_type": "code",
   "execution_count": null,
   "metadata": {},
   "outputs": [],
   "source": [
    "global_data.info()"
   ]
  },
  {
   "cell_type": "markdown",
   "metadata": {},
   "source": [
    "## 2. Data Visualisation\n",
    "\n",
    "### Destructive Data Analysis"
   ]
  },
  {
   "cell_type": "code",
   "execution_count": null,
   "metadata": {},
   "outputs": [],
   "source": [
    "#tabulating the highest destruction corresponding to the parameters\n",
    "global_List = [['Country', global_data['Country'].value_counts().idxmax(), max(global_data['Country'].value_counts())],['City', global_data['City'].value_counts().index[1], global_data['City'].value_counts()[1]],['Region', global_data['Region'].value_counts().idxmax(), max(global_data['Region'].value_counts())],['Year', global_data['Year'].value_counts().idxmax(), max(global_data['Year'].value_counts())],['Month', global_data['Month'].value_counts().idxmax(), max(global_data['Month'].value_counts())],['Group', global_data['Group'].value_counts().index[1], global_data['Group'].value_counts()[1]],['Most Attack Types', global_data['AttackType'].value_counts().idxmax(), max(global_data['AttackType'].value_counts())]]\n",
    "dist_data = DataFrame (global_List,columns=['Parameters','Highest Destruction','Attacks_count'])\n",
    "print (dist_data)"
   ]
  },
  {
   "cell_type": "code",
   "execution_count": null,
   "metadata": {},
   "outputs": [],
   "source": [
    "#Wordcloud dipicting the states that are affected with the terrorists attack\n",
    "St = global_data.State.dropna(False)\n",
    "plt.subplots(figsize=(20,10))\n",
    "wordcloud = WordCloud(background_color = 'green',\n",
    "                     width = 500,\n",
    "                     height = 400).generate(' '.join(St))\n",
    "plt.axis('off')\n",
    "plt.imshow(wordcloud)\n",
    "plt.show()"
   ]
  },
  {
   "cell_type": "code",
   "execution_count": null,
   "metadata": {},
   "outputs": [],
   "source": [
    "#Plotting heatmap \n",
    "plt.figure(figsize=(10,5))\n",
    "sns.heatmap(global_data.corr(), annot=True)"
   ]
  },
  {
   "cell_type": "markdown",
   "metadata": {},
   "source": [
    "## 3. Explaratory Data Analysis\n",
    "###     No. of global attacks per year"
   ]
  },
  {
   "cell_type": "code",
   "execution_count": null,
   "metadata": {},
   "outputs": [],
   "source": [
    "#To plot the graph to visualise the no. of incidents occured since 1970\n",
    "plt.figure(figsize=(15,10))\n",
    "ax = sns.countplot(x='Year',data=global_data,palette='mako')\n",
    "ax.set_xticklabels(ax.get_xticklabels(), rotation=90, ha=\"right\")\n",
    "plt.title('Global Terrorist Attack(1970-2017)',size=15)\n",
    "plt.ylabel('Incidents')"
   ]
  },
  {
   "cell_type": "code",
   "execution_count": null,
   "metadata": {},
   "outputs": [],
   "source": [
    "#Interactive graph showing the details on hover\n",
    "plotting=global_data.Year.value_counts()\n",
    "fig = px.bar(plotting, x=plotting.index, y=plotting.values, title=\"No. of terrorist attacks\", labels={'y':'No. of Attacks', 'index':'Year'})\n",
    "fig.show()             "
   ]
  },
  {
   "cell_type": "markdown",
   "metadata": {},
   "source": [
    "### Terrorist Attack in each country"
   ]
  },
  {
   "cell_type": "code",
   "execution_count": null,
   "metadata": {},
   "outputs": [],
   "source": [
    "# to plot the terrorst attack on top 10 Country\n",
    "plt.figure(figsize=(15,10))\n",
    "sns.barplot(x = global_data['Country'].value_counts().values[:10], y = global_data['Country'].value_counts()[:10].index,palette = 'rocket')\n",
    "plt.xlabel('Number of Attacks')\n",
    "plt.ylabel('Countries')\n",
    "plt.title('Top-10 Countries with terrorist attacks',size=15)"
   ]
  },
  {
   "cell_type": "markdown",
   "metadata": {},
   "source": [
    "### Terrorist Attack in states"
   ]
  },
  {
   "cell_type": "code",
   "execution_count": null,
   "metadata": {},
   "outputs": [],
   "source": [
    "# plotting the terrorist attacks in top 10 states\n",
    "fig = plt.figure(figsize=(15,6))\n",
    "sns.barplot(global_data['State'].value_counts()[:10].index,global_data['State'].value_counts()[:10].values,palette='rocket')\n",
    "plt.title('Top 10 States Affected')\n",
    "plt.xlabel('States')\n",
    "plt.ylabel('No. of attacks')\n"
   ]
  },
  {
   "cell_type": "markdown",
   "metadata": {},
   "source": [
    "### Terrorist attacks in Region"
   ]
  },
  {
   "cell_type": "code",
   "execution_count": null,
   "metadata": {},
   "outputs": [],
   "source": [
    "#top 10 regions with terror attacks\n",
    "fig = plt.figure(figsize=(10,6))\n",
    "sns.barplot(global_data['Region'].value_counts()[:10].index,global_data['Region'].value_counts()[:10].values)\n",
    "plt.title('Top 10 Affected Regions')\n",
    "plt.xlabel('Region')\n",
    "plt.ylabel('Counts')\n",
    "plt.xticks(rotation=90); #No-overlapping of x labels"
   ]
  },
  {
   "cell_type": "markdown",
   "metadata": {},
   "source": [
    "### Casualities by region"
   ]
  },
  {
   "cell_type": "code",
   "execution_count": null,
   "metadata": {},
   "outputs": [],
   "source": [
    "gtd_region_wise = global_data[['Region','Killed','Wounded']].copy()\n",
    "gtd_region_wise = gtd_region_wise.groupby(by=['Region']).sum()\n",
    "gtd_region_wise"
   ]
  },
  {
   "cell_type": "markdown",
   "metadata": {},
   "source": [
    "### Groups with most terrorist attacks"
   ]
  },
  {
   "cell_type": "code",
   "execution_count": null,
   "metadata": {},
   "outputs": [],
   "source": [
    "#terrorist groups\n",
    "fig = plt.figure(figsize=(15,6))\n",
    "sns.barplot(global_data['Group'].value_counts()[:10].index,global_data['Group'].value_counts()[:10].values,palette='rocket')\n",
    "plt.title('Group with Most Terrorist Attacks')\n",
    "plt.xlabel('Group')\n",
    "plt.ylabel('Counts')\n",
    "#Rotate the labels on X-axis so that they don't overlap\n",
    "plt.xticks(rotation=90);"
   ]
  },
  {
   "cell_type": "code",
   "execution_count": null,
   "metadata": {},
   "outputs": [],
   "source": [
    "#Group attacked corresponding to the Country\n",
    "dfClass1 = global_data.loc[global_data.Year.isin(np.array(range(1970,2017)))]\n",
    "fig = px.sunburst(dfClass1, path=['Group','Country'],\n",
    "                 labels={\"count\": \"Attacks\",'id':'path'},\n",
    "                 title='Group Name vs Country attacked')\n",
    "fig.show()"
   ]
  },
  {
   "cell_type": "markdown",
   "metadata": {},
   "source": [
    "### Targets for the attack"
   ]
  },
  {
   "cell_type": "code",
   "execution_count": null,
   "metadata": {},
   "outputs": [],
   "source": [
    "#To plot the terrorists favorite places of attack\n",
    "plt.figure(figsize=(15,10))\n",
    "sns.countplot(global_data['TargetType'],order=global_data['TargetType'].value_counts().index,palette='autumn')\n",
    "plt.xticks(rotation=90)\n",
    "plt.xlabel('Type')\n",
    "plt.title('Targets for the attack',size=15)"
   ]
  },
  {
   "cell_type": "code",
   "execution_count": null,
   "metadata": {},
   "outputs": [],
   "source": [
    "#plot target type corresponding to the Country\n",
    "fig = px.sunburst(dfClass1, path=['TargetType','Country'],\n",
    "                 labels={\"count\": \"Attacks\",'id':'path'},\n",
    "                 title='Target type vs Country')\n",
    "fig.show()"
   ]
  },
  {
   "cell_type": "markdown",
   "metadata": {},
   "source": [
    "### Terrorist Attack Types"
   ]
  },
  {
   "cell_type": "code",
   "execution_count": null,
   "metadata": {},
   "outputs": [],
   "source": [
    "graph_data =global_data['AttackType'].apply(lambda x: x if x in ['Bombing/Explosion','Armed Assault','Assassination',\n",
    "                                                            'Hostage Taking',\n",
    "                                                            'Facility/Infrastructure Attack'] else 'Others')\n",
    "attack_type = graph_data.value_counts().tolist()\n",
    "\n",
    "labels = ['Bombing/Explosion','Armed Assault','Assassination','Hostage Taking','Facility/Infrastructure Attack','Others']\n",
    "print(\"The no.of attacks: \", labels, attack_type)\n",
    "\n",
    "sizes = []\n",
    "\n",
    "for i in attack_type:\n",
    "    percent = i*100/len(global_data['AttackType'])\n",
    "    sizes.append(percent)\n",
    "\n",
    "fig, ax = plt.subplots(figsize=(10,10))\n",
    "patches, texts, autotexts = ax.pie(sizes, labels=labels, autopct='%1.1f%%',\n",
    "        startangle = -20, shadow = True,\n",
    "        explode = (0.05, 0, 0, 0, 0, 0),\n",
    "        colors = sns.color_palette(\"Paired\", 8)[:5]+[(0.5843137254901961, 0.6470588235294118, 0.6509803921568628)],\n",
    "        textprops={'fontsize':15,'weight':'light','color':'k'})\n",
    "\n",
    "ax.axis('equal')\n",
    "plt.title('Terrorist Attack Types', fontsize= 25, pad= -70, weight ='bold', \n",
    "             color = sns.cubehelix_palette(8, start=.5, rot=-.75)[-3]) #pad change the distance from title to graph\n",
    "plt.tight_layout()\n",
    "ax.legend(loc='lower right',framealpha = 0.5,bbox_to_anchor=(1.8,0.5,0.1,1), prop={'size': 14})\n",
    "fig.show()"
   ]
  },
  {
   "cell_type": "code",
   "execution_count": null,
   "metadata": {},
   "outputs": [],
   "source": [
    "#Attack type, weapon type against the Country\n",
    "weapon_used = global_data[[\"eventid\",\"Country\",'Year', 'Month', 'Day','WeaponType','AttackType']]\n",
    "fig = px.sunburst(weapon_used, path=['AttackType','WeaponType','Country'],\n",
    "                 labels={\"count\": \"Attacks\",'id':'path'},\n",
    "                 title='Attack Type - Weapon type - Country')\n",
    "fig.show()"
   ]
  },
  {
   "cell_type": "code",
   "execution_count": null,
   "metadata": {},
   "outputs": [],
   "source": [
    "#Checking the weapon type chosen for attack\n",
    "plt.figure(figsize=(20, 10))\n",
    "sns.countplot(x=\"AttackType\", hue=\"WeaponType\", data=global_data) \n",
    "plt.show()"
   ]
  },
  {
   "cell_type": "code",
   "execution_count": null,
   "metadata": {},
   "outputs": [],
   "source": [
    "# Total Number of people killed in terror attack\n",
    "killed_data = global_data.loc[:,'Killed']\n",
    "print('Number of people killed by terror attack:', int(sum(killed_data.dropna())))# drop the NaN values\n",
    "# Let's look at what types of attacks these deaths were made of.\n",
    "attack_data = global_data.loc[:,'AttackType']\n",
    "# attackData\n",
    "typeKill_data = pd.concat([attack_data, killed_data], axis=1)\n",
    "#count of killed against the attack type\n",
    "typeKill_FormatData = typeKill_data.pivot_table(columns='AttackType', values='Killed', aggfunc='sum')\n",
    "typeKill_FormatData"
   ]
  },
  {
   "cell_type": "code",
   "execution_count": null,
   "metadata": {},
   "outputs": [],
   "source": [
    "#Attack type vs Region\n",
    "\n",
    "pd.crosstab(global_data.Region, global_data.AttackType).plot.barh(stacked=True,width=1, color=sns.color_palette('magma',9))\n",
    "fig=plt.gcf()\n",
    "fig.set_size_inches(12,8)\n",
    "plt.show()"
   ]
  },
  {
   "cell_type": "code",
   "execution_count": null,
   "metadata": {},
   "outputs": [],
   "source": [
    "#To check the success rate of attacks\n",
    "success = len(global_data[global_data[\"Success\"]==1])\n",
    "failed =  len(global_data[global_data[\"Success\"]==0])\n",
    "list_sf = [success, failed]\n",
    "plt.pie(list_sf, labels = [\"Success\", \"Failed\"], autopct = \"%.1f%%\", startangle = 90, explode=[0.1,0])\n",
    "plt.title(\"Success vs Failure rate of attacks\", fontsize=16)\n",
    "plt.show()"
   ]
  },
  {
   "cell_type": "code",
   "execution_count": null,
   "metadata": {
    "scrolled": true
   },
   "outputs": [],
   "source": [
    "# plot showing the attacks,killed and wounded in each year\n",
    "world_killed = global_data.groupby([\"Year\"])[\"Killed\"].sum()\n",
    "world_wounded = global_data.groupby([\"Year\"])[\"Wounded\"].sum()\n",
    "fig= go.Figure(data=[go.Bar(name=\"Attacks\", x=plotting.index, y=plotting.values),go.Bar(name=\"Killed\", x=world_killed.index, y=world_killed.values), go.Bar(name=\"Wounded\", x=world_wounded.index,y=world_wounded.values),])\n",
    "fig.update_layout(title=\"Total Attacks vs No. of people killed/wounded per year\")\n",
    "fig.show()"
   ]
  },
  {
   "cell_type": "code",
   "execution_count": null,
   "metadata": {},
   "outputs": [],
   "source": [
    "# plotting attack type Vs No. of people killed and wounded\n",
    "\n",
    "attack_type_kill = global_data[['Killed','Wounded']].groupby(global_data['AttackType']).sum()\n",
    "attack_type_kill.plot(kind='bar')\n",
    "plt.title(\"Attack type vs no. of people killed and wounded\")\n",
    "plt.xlabel(\"AttackType\")\n",
    "plt.ylabel(\"No. of people killed/wounded\")"
   ]
  },
  {
   "cell_type": "code",
   "execution_count": null,
   "metadata": {},
   "outputs": [],
   "source": [
    "# plotting the attacks in the map\n",
    "px.scatter_mapbox(global_data, lat=\"Latitude\", lon=\"Longitude\", color=\"AttackType\",size=\"Killed\",hover_name=\"City\",\n",
    "                  color_continuous_scale=px.colors.cyclical.IceFire, size_max=15, zoom=10,\n",
    "                  mapbox_style=\"carto-positron\",title=\"Attacks in each city\")"
   ]
  },
  {
   "cell_type": "code",
   "execution_count": null,
   "metadata": {
    "scrolled": true
   },
   "outputs": [],
   "source": [
    "global_Map=global_data.where(global_data['Latitude']!=None).sort_values(by='Year')\n",
    "\n",
    "global_Map=global_Map.groupby(['Year','Latitude','Longitude','City','Country']).count()\n",
    "a=global_Map.index.values\n",
    "l=list(a)\n",
    "Alt = [x[1] for x in l]\n",
    "Long = [y[2] for y in l]\n",
    "Years= [a[0] for a in l]\n",
    "Countries= [c[-1] for c in l]\n",
    "Cities = [c[-2] for c in l]\n",
    "#print(Cities)\n",
    "Alt = np.array(Alt)\n",
    "Long = np.array(Long)\n",
    "Years = np.array(Years)\n",
    "Countries = np.array(Countries)\n",
    "Cities=np.array(Cities)\n",
    "fig = px.scatter_geo(global_Map, lon=Long,lat=Alt,hover_name=Cities,animation_frame=Years,projection=\"equirectangular\",\n",
    "                    labels={\"eventid\": \"Attacks\",'animation_frame':'Year'})\n",
    "fig.update_layout(title=' Scatter plot: Map of terrorism attacks in the world from 1970 to 2017')\n",
    "fig.show()"
   ]
  },
  {
   "cell_type": "code",
   "execution_count": null,
   "metadata": {},
   "outputs": [],
   "source": [
    "#terror attacks in city\n",
    "filtered_Year = global_data['Year'] == 2014\n",
    "filtered_Data = global_data[filtered_Year] # filter data\n",
    "map_data = filtered_Data.loc[:,'City':'Longitude'] #city and longitude\n",
    "map_data = map_data.dropna() # drop NaN values for plotting\n",
    "map_data1 = map_data.values.tolist()"
   ]
  },
  {
   "cell_type": "code",
   "execution_count": null,
   "metadata": {},
   "outputs": [],
   "source": [
    "map = folium.Map(location = [0, 30], tiles='CartoDB positron', zoom_start=2)\n",
    "# clustered marker\n",
    "markerCluster = folium.plugins.MarkerCluster().add_to(map)\n",
    "for point in range(0, len(map_data1)):\n",
    "    folium.Marker(location=[map_data1[point][1],map_data1[point][2]],popup = map_data1[point][0]).add_to(markerCluster)"
   ]
  },
  {
   "cell_type": "code",
   "execution_count": null,
   "metadata": {},
   "outputs": [],
   "source": [
    "map"
   ]
  },
  {
   "cell_type": "code",
   "execution_count": null,
   "metadata": {},
   "outputs": [],
   "source": [
    "terror_df_group = global_data.dropna(subset=['Latitude','Longitude'])\n",
    "terror_df_group = terror_df_group.drop_duplicates(subset=['City','Group'])\n",
    "terrorist_groups = global_data.Group.value_counts()[1:8].index.tolist()\n",
    "terror_df_group = terror_df_group.loc[terror_df_group.Group.isin(terrorist_groups)]\n",
    "\n",
    "m1 = folium.Map(location=[20, 0], tiles=\"CartoDB positron\", zoom_start=2)\n",
    "marker_cluster = MarkerCluster(name='clustered icons',overlay=True,control=False,icon_create_function=None)\n",
    "for i in range(0,len(terror_df_group)):\n",
    "    marker=folium.Marker([terror_df_group.iloc[i]['Latitude'],terror_df_group.iloc[i]['Longitude']]) \n",
    "    popup='Group:{}<br>City:{}'.format(terror_df_group.iloc[i]['Group'],terror_df_group.iloc[i]['City'])\n",
    "    folium.Popup(popup).add_to(marker)\n",
    "    marker_cluster.add_child(marker)\n",
    "marker_cluster.add_to(m1)\n",
    "folium.TileLayer('openstreetmap').add_to(m1)\n",
    "folium.TileLayer('cartodbdark_matter').add_to(m1)\n",
    "folium.TileLayer('stamentoner').add_to(m1)\n",
    "folium.LayerControl().add_to(m1)\n",
    "\n",
    "m1"
   ]
  },
  {
   "cell_type": "code",
   "execution_count": null,
   "metadata": {},
   "outputs": [],
   "source": [
    "#HeatMap for 2014 attacks\n",
    "attack=global_data.loc[global_data.Year==2014][['Latitude','Longitude']]\n",
    "attack.Latitude.fillna(0, inplace = True)\n",
    "attack.Longitude.fillna(0, inplace = True) \n",
    "World=folium.Map(location=[0,0],zoom_start=2)\n",
    "HeatMap(data=attack, radius=16).add_to(World)\n",
    "print('Terrorism spread in 2014')\n",
    "World"
   ]
  },
  {
   "cell_type": "code",
   "execution_count": null,
   "metadata": {},
   "outputs": [],
   "source": [
    "#Basemap for attacks over years\n",
    "plt.figure(figsize=(24,12))\n",
    "map = Basemap(projection='hammer',lat_0=20,lon_0=-20) \n",
    "map.drawcoastlines(linewidth=0.25)\n",
    "map.drawcountries(linewidth=0.25)\n",
    "map.fillcontinents(color='yellow',lake_color='deepskyblue')\n",
    "\n",
    "map.drawmapboundary(fill_color='deepskyblue')\n",
    "\n",
    "# draw lat/lon grid lines every 30 degrees.\n",
    "map.drawmeridians(np.arange(0,360,30))\n",
    "map.drawparallels(np.arange(-90,90,30))\n",
    "\n",
    "lons=global_data['Longitude']\n",
    "lats=global_data['Latitude']\n",
    "long = lons.tolist()\n",
    "lati = lats.tolist()\n",
    "x,y = map(long, lati)\n",
    "map.plot(x, y, 'ro', markersize=.05)\n",
    "plt.title(\"Global Terrorist Attacks (1970 - 2016)\")\n",
    "\n",
    "plt.show()"
   ]
  },
  {
   "cell_type": "code",
   "execution_count": null,
   "metadata": {
    "scrolled": true
   },
   "outputs": [],
   "source": [
    "#Attack in south Asia\n",
    "reg_groupby = global_data.groupby([\"Region\"])\n",
    "gd_df = reg_groupby.get_group(\"South Asia\")\n",
    "gd_df['Affected'] = gd_df['Killed'] + gd_df['Wounded']\n",
    "# boundary of south asia (lat and lon coordinates)\n",
    "llon = 58.8\n",
    "ulon = 98.9\n",
    "llat = 5.04\n",
    "ulat = 41.06\n",
    "years=list(gd_df.Year.unique())\n",
    "fig = plt.figure(figsize=(14, 7), dpi=150)\n",
    "\n",
    "def year_attack(Year):\n",
    "    plt.clf() # clear the previous plot \n",
    "    plt.title('Terrorism In South Asia '+'\\n'+'Year:' +str(Year))\n",
    "    my_map = Basemap(projection='merc',resolution='l', llcrnrlon=llon, llcrnrlat=llat-1, urcrnrlon=ulon, urcrnrlat=ulat+3, area_thresh=100, ) # low resolution\n",
    "    lat_gif=list(gd_df[gd_df['Year']==Year].Latitude)\n",
    "    long_gif=list(gd_df[gd_df['Year']==Year].Longitude)\n",
    "    x_gif,y_gif=my_map(long_gif, lat_gif)\n",
    "    my_map.scatter(x_gif, y_gif,s=[fat*1.10 for fat in gd_df[gd_df['Year']==Year].Affected], color = 'OrangeRed')\n",
    "    my_map.drawcoastlines()\n",
    "    my_map.drawcountries()\n",
    "    my_map.shadedrelief()\n",
    "\n",
    "year_ani_SA = animation.FuncAnimation(fig, year_attack, years, interval=1500)\n",
    "year_ani_SA.save('year_attack_ani.gif', writer='pillow', fps=1, dpi=150)"
   ]
  },
  {
   "cell_type": "markdown",
   "metadata": {},
   "source": [
    "## 4. Classification"
   ]
  },
  {
   "cell_type": "code",
   "execution_count": null,
   "metadata": {},
   "outputs": [],
   "source": [
    "import pandas as pd\n",
    "global_terrorism_df = pd.read_csv('globalterrorismdb_0718dist.csv',encoding='ISO-8859-1')\n",
    "# To remove all columns having null values > 5000\n",
    "for i in global_terrorism_df.columns:\n",
    "    if global_terrorism_df[i].isnull().sum()>5000:\n",
    "        global_terrorism_df.drop(columns=i, inplace=True)\n",
    "#Fill the na values\n",
    "global_terrorism_df['doubtterr'].fillna(-9, inplace=True)\n",
    "global_terrorism_df['multiple'].fillna(0, inplace=True)\n",
    "global_terrorism_df['natlty1'].fillna(0, inplace=True)\n",
    "global_terrorism_df['ishostkid'].fillna(-9, inplace=True)\n",
    "\n",
    "# quantizing dataset\n",
    "global_terrorism_df['provstate'] = pd.factorize(global_terrorism_df['provstate'])[0]\n",
    "global_terrorism_df['iyear'] = pd.factorize(global_terrorism_df['iyear'])[0]\n",
    "global_terrorism_df['city'] = pd.factorize(global_terrorism_df['city'])[0]\n",
    "global_terrorism_df['country'] = pd.factorize(global_terrorism_df['country'])[0]\n",
    "global_terrorism_df['target1'] = pd.factorize(global_terrorism_df['target1'])[0]\n",
    "global_terrorism_df['gname'] = pd.factorize(global_terrorism_df['gname'])[0]\n",
    "global_terrorism_df['natlty1'] = pd.factorize(global_terrorism_df['natlty1'])[0]\n",
    "\n",
    "attacktype_dict = {}\n",
    "attacktype_code = list(global_terrorism_df.attacktype1.unique())\n",
    "attacktype_name = list(global_terrorism_df.attacktype1_txt.unique())\n",
    "for i in range(len(attacktype_code)):\n",
    "    attacktype_dict[attacktype_code[i]] = attacktype_name[i]\n",
    "# further reduction of unnecessary columns after looking at the Codebook (documentation)\n",
    "global_terrorism_df.drop(columns=['eventid', 'extended', 'country_txt', 'region_txt', 'specificity', 'vicinity',\n",
    "                 'crit1', 'crit2', 'crit3', 'attacktype1_txt', 'targtype1_txt', 'natlty1_txt',\n",
    "                 'guncertain1', 'individual', 'weaptype1_txt', 'dbsource', 'INT_MISC'], inplace=True)    \n",
    "#To check the null values if any\n",
    "global_terrorism_df.isna().any()"
   ]
  },
  {
   "cell_type": "code",
   "execution_count": null,
   "metadata": {},
   "outputs": [],
   "source": [
    "global_terrorism_df=global_terrorism_df.dropna()"
   ]
  },
  {
   "cell_type": "code",
   "execution_count": null,
   "metadata": {},
   "outputs": [],
   "source": [
    "global_terrorism_df.isna().any()"
   ]
  },
  {
   "cell_type": "code",
   "execution_count": null,
   "metadata": {},
   "outputs": [],
   "source": [
    "global_terrorism_df.info()"
   ]
  },
  {
   "cell_type": "code",
   "execution_count": null,
   "metadata": {},
   "outputs": [],
   "source": [
    "X = global_terrorism_df.drop(['attacktype1'], axis=1, inplace=False)\n",
    "y = global_terrorism_df['attacktype1']\n",
    "X_train, X_test, y_train, y_test = train_test_split(X, y, test_size=0.25, random_state=44, shuffle =True)\n",
    "print('X_train shape is ' , X_train.shape)\n",
    "print('X_test shape is ' , X_test.shape)\n",
    "print('y_train shape is ' , y_train.shape)\n",
    "print('y_test shape is ' , y_test.shape)"
   ]
  },
  {
   "cell_type": "code",
   "execution_count": null,
   "metadata": {},
   "outputs": [],
   "source": [
    "#GBC model\n",
    "start_time = time.time()\n",
    "GBCModel = GradientBoostingClassifier(n_estimators=100,max_depth=3,random_state=33) \n",
    "GBCModel.fit(X_train, y_train)\n",
    "predictions = GBCModel.predict(X_test)\n",
    "acc_score_gbc = accuracy_score(predictions, y_test)\n",
    "print(\"Accuracy score of GBC: \", round(accuracy_score(predictions, y_test),2))\n",
    "time_gbc=time.time() - start_time\n",
    "print(\"Time taken by GBC: \", round((time.time() - start_time),3),'seconds')"
   ]
  },
  {
   "cell_type": "code",
   "execution_count": null,
   "metadata": {},
   "outputs": [],
   "source": [
    "# Random Forest Model\n",
    "start_time = time.time()\n",
    "model_RFC=RandomForestClassifier(n_estimators=100)\n",
    "model_RFC.fit(X_train, y_train)\n",
    "pred_rfc = model_RFC.predict(X_test)\n",
    "acc_score_rfc = accuracy_score(y_test,pred_rfc)\n",
    "print('Accuracy score of RFC: ', round(accuracy_score(y_test,pred_rfc),2))\n",
    "time_rfc=time.time() - start_time\n",
    "print(\"Time taken by RFC: \", round((time.time() - start_time),3),'seconds')"
   ]
  },
  {
   "cell_type": "code",
   "execution_count": null,
   "metadata": {},
   "outputs": [],
   "source": [
    "#Gaussaian NB\n",
    "start_time = time.time()\n",
    "classifier = GaussianNB()\n",
    "classifier.fit(X_train, y_train)\n",
    "y_pred  =  classifier.predict(X_test)\n",
    "acc_score_gb = accuracy_score(y_test,y_pred)\n",
    "print('Accuracy score of GaussianNB: ', round(accuracy_score(y_test,y_pred ),2))\n",
    "time_gb=time.time() - start_time\n",
    "print(\"Time taken by GaussianNB: \", round((time.time() - start_time),3),'seconds')"
   ]
  },
  {
   "cell_type": "code",
   "execution_count": null,
   "metadata": {},
   "outputs": [],
   "source": [
    "# AdaBoost Classifier\n",
    "start_time = time.time()\n",
    "abc = AdaBoostClassifier(n_estimators=100, random_state=0)\n",
    "y_pred_abc = abc.fit(X_train, y_train).predict(X_test)\n",
    "acc_score_abc = accuracy_score(y_test,y_pred_abc)\n",
    "print(\"Accuracy of AdaBoost Classifier:\", round(accuracy_score(y_test,y_pred_abc),2))\n",
    "time_abc=time.time() - start_time\n",
    "print(\"Time taken by AdaBoost classifier: \", round((time.time() - start_time),3),'seconds')"
   ]
  },
  {
   "cell_type": "code",
   "execution_count": null,
   "metadata": {
    "scrolled": true
   },
   "outputs": [],
   "source": [
    "#to graphically represent the accuracy of the models\n",
    "data = {'GBC':acc_score_gbc, 'RFC':acc_score_rfc, 'GB':acc_score_gb, 'ABC':acc_score_abc}\n",
    "model = list(data.keys())\n",
    "score = list(data.values())\n",
    "fig=go.Figure(data=[go.Bar(x=model, y=score)])\n",
    "fig.update_layout(title=\"Accuracy scores of the models\")\n",
    "fig.show()"
   ]
  },
  {
   "cell_type": "code",
   "execution_count": null,
   "metadata": {},
   "outputs": [],
   "source": [
    "#To compare the time takem by the models\n",
    "time_data={'GBC':time_gbc, 'RFC':time_rfc, 'GB':time_gb, 'ABC':time_abc}\n",
    "time=list(time_data.values())\n",
    "fig=go.Figure(data=[go.Bar(x=model, y=time)])\n",
    "fig.update_layout(title=\"timing taken by models\")\n",
    "fig.show()"
   ]
  },
  {
   "cell_type": "code",
   "execution_count": null,
   "metadata": {},
   "outputs": [],
   "source": [
    "#Precision, recall and f score for the models\n",
    "print('GBC\\n\\nPrecision: {:.2f}\\nRecall: {:.2f}\\nF-score: {:.2f}'.format(precision_score(y_test, predictions,average=\"macro\"), recall_score(y_test, predictions,average=\"macro\"), f1_score(y_test, predictions,average=\"macro\")))\n",
    "print('\\nRFC\\n\\nPrecision: {:.2f}\\nRecall: {:.2f}\\nF-score: {:.2f}'.format(precision_score(y_test, pred_rfc,average=\"macro\"), recall_score(y_test, pred_rfc,average=\"macro\"), f1_score(y_test, pred_rfc,average=\"macro\")))\n",
    "print('\\nGaussianNB\\n\\nPrecision: {:.2f}\\nRecall: {:.2f}\\nF-score: {:.2f}'.format(precision_score(y_test, y_pred,average=\"macro\"), recall_score(y_test, y_pred,average=\"macro\"), f1_score(y_test, y_pred,average=\"macro\")))\n",
    "print('\\nABC\\n\\nPrecision: {:.2f}\\nRecall: {:.2f}\\nF-score: {:.2f}'.format(precision_score(y_test, y_pred_abc,average=\"macro\"), recall_score(y_test, y_pred_abc,average=\"macro\"), f1_score(y_test, y_pred_abc,average=\"macro\")))"
   ]
  },
  {
   "cell_type": "code",
   "execution_count": null,
   "metadata": {},
   "outputs": [],
   "source": [
    "#visualising the machine learning models of India with respect to the attack type\n",
    "fontP = FontProperties()\n",
    "fontP.set_size('small')\n",
    "def plot_classifier_b(model):\n",
    "    ax=plt.gca()\n",
    "    temp_df = global_terrorism_df.country == 92\n",
    "    terrorism_data_in_country = global_terrorism_df[temp_df]\n",
    "    terrorism_data_in_country_X = terrorism_data_in_country.drop(['attacktype1'], axis=1, inplace=False)\n",
    "    terrorism_data_in_country_y = terrorism_data_in_country['attacktype1']\n",
    "  \n",
    "    y_plot_pred = model.predict(terrorism_data_in_country_X)\n",
    "\n",
    "    dict_attack_data = {'Attack_number': [1,2,3,4,5,6,7,8,9], 'Attack':['Assassination', 'Armed Assault', 'Bombing/Explosion', 'Hijacking', 'Hostage Taking (Barricade Incident)', 'Hostage Taking (Kidnapping)', 'Facility/Infrastructure Attack','Unarmed Assault', 'Unknown']}  \n",
    "\n",
    "    attack_list_pred = []\n",
    " \n",
    "    scatter = ax.scatter(terrorism_data_in_country_X.latitude, terrorism_data_in_country_X.longitude, c = y_plot_pred, cmap='rainbow')\n",
    "\n",
    "    plt.colorbar(scatter)\n",
    "\n",
    "    legend1 = ax.legend(*scatter.legend_elements(), loc='upper left', prop=fontP, bbox_to_anchor=(1.5, 1),\n",
    "                     title=\"Attacks\", ncol=4, fontsize=8)\n",
    "  \n",
    "    legend_df = pd.DataFrame.from_dict(dict_attack_data)\n",
    "    print(tabulate(legend_df, headers = legend_df.columns))\n",
    "  \n",
    "\n",
    "plot_classifier_b(model_RFC)"
   ]
  },
  {
   "cell_type": "code",
   "execution_count": null,
   "metadata": {},
   "outputs": [],
   "source": [
    "plot_classifier_b(classifier)"
   ]
  },
  {
   "cell_type": "code",
   "execution_count": null,
   "metadata": {},
   "outputs": [],
   "source": [
    "plot_classifier_b(abc)"
   ]
  },
  {
   "cell_type": "code",
   "execution_count": null,
   "metadata": {},
   "outputs": [],
   "source": [
    "plot_classifier_b(GBCModel)"
   ]
  },
  {
   "cell_type": "markdown",
   "metadata": {},
   "source": [
    "### We can see that RFC gives the better accuracy score than any other models and it works well with sparse data sets with a high number of classes. "
   ]
  },
  {
   "cell_type": "code",
   "execution_count": null,
   "metadata": {},
   "outputs": [],
   "source": [
    "'''The following insights are drawn:\n",
    "\n",
    " \n",
    "          Parameters         Highest Destruction  Attacks_count\n",
    "0            Country                        Iraq          24636\n",
    "1               City                     Baghdad           7589\n",
    "2             Region  Middle East & North Africa          50474\n",
    "3               Year                        2014          16903\n",
    "4              Month                           5          16875\n",
    "5              Group                     Taliban           7478\n",
    "6  Most Attack Types           Bombing/Explosion          88255 '''\n",
    "\n"
   ]
  },
  {
   "cell_type": "markdown",
   "metadata": {},
   "source": [
    "As we can see that the attack type which is mostly used is bombing/explosion. There should be a proper security measures to be implemented by the government to overcome this situation.\n",
    "\n",
    "Next steps:\n",
    "1.   The model does not consider groups that are unknown. I would improve this by factoring in classification confidence in the label and improved via feature engineering which may result in high accuracy.\n",
    "\n",
    "2.    The latitude and longitude contain null values. The accuracy can be improved by filling the data. This would involve cross-referencing other geolocation packages.\n"
   ]
  },
  {
   "cell_type": "code",
   "execution_count": null,
   "metadata": {},
   "outputs": [],
   "source": []
  }
 ],
 "metadata": {
  "kernelspec": {
   "display_name": "Python 3",
   "language": "python",
   "name": "python3"
  },
  "language_info": {
   "codemirror_mode": {
    "name": "ipython",
    "version": 3
   },
   "file_extension": ".py",
   "mimetype": "text/x-python",
   "name": "python",
   "nbconvert_exporter": "python",
   "pygments_lexer": "ipython3",
   "version": "3.8.5"
  }
 },
 "nbformat": 4,
 "nbformat_minor": 4
}
